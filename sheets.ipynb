{
 "cells": [
  {
   "cell_type": "code",
   "execution_count": 7,
   "metadata": {},
   "outputs": [],
   "source": [
    "import pandas as pd\n",
    "import numpy as np"
   ]
  },
  {
   "cell_type": "code",
   "execution_count": 2,
   "metadata": {},
   "outputs": [],
   "source": [
    "workers_df = pd.read_csv('/Users/swarchol/Downloads/workers (1).csv')"
   ]
  },
  {
   "cell_type": "code",
   "execution_count": 4,
   "metadata": {},
   "outputs": [
    {
     "data": {
      "text/plain": [
       "Index(['Union ID ', 'Name ', 'Name : Title', 'Name : First', 'Name : Middle',\n",
       "       'Name : Last', 'Preferred Name', 'Pronouns', 'Cell Phone - Given',\n",
       "       'Home Phone', 'Mobile Phone', 'Bad numbers', 'Preferred Email',\n",
       "       'Harvard Email', 'Personal Email', 'Do Not Call', 'Do Not Text',\n",
       "       'Do Not Visit', 'Comments', 'Advisor', 'Degree', 'Department',\n",
       "       'HU Building', 'Buildings', 'Office A Room', 'Currently Working ',\n",
       "       'Assessment', 'Leader', 'Turf', 'Signed Member', 'V-CAP Amount ',\n",
       "       'Date of Enrollment ', 'Position Classification ', 'Strike', 'District',\n",
       "       'Enrollment Major/Concentration ', 'Positions ', 'Enrollment Program ',\n",
       "       'Enrollment School ', 'Degree.1', 'Involvement'],\n",
       "      dtype='object')"
      ]
     },
     "execution_count": 4,
     "metadata": {},
     "output_type": "execute_result"
    }
   ],
   "source": [
    "workers_df.columns"
   ]
  },
  {
   "cell_type": "code",
   "execution_count": 5,
   "metadata": {},
   "outputs": [],
   "source": [
    "# p: 587101\n",
    "\n",
    "# q: 907447\n",
    "\n",
    "# n: 88793591100\n",
    "\n",
    "# e: 3\n",
    "\n",
    "# c: 112176599258\n",
    "\n",
    "p = 101293\n",
    "q = 100153\n",
    "c = 1455023218\n",
    "\n",
    "\n"
   ]
  },
  {
   "cell_type": "code",
   "execution_count": 8,
   "metadata": {},
   "outputs": [
    {
     "data": {
      "text/plain": [
       "845383032"
      ]
     },
     "execution_count": 8,
     "metadata": {},
     "output_type": "execute_result"
    }
   ],
   "source": []
  },
  {
   "cell_type": "code",
   "execution_count": 22,
   "metadata": {},
   "outputs": [],
   "source": [
    "def generate_id(uid, c, n):\n",
    "    e = 3\n",
    "    return (pow(int(uid), int(e)) + int(c)) % int(n)\n",
    "\n",
    "\n",
    "def generate_voter_ids(p, q, c, df):\n",
    "    e = 3\n",
    "    # Step 1: Calculate n (LCM of p-1 and q-1)\n",
    "    n = np.lcm(p - 1, q - 1)\n",
    "\n",
    "    # Step 2: Choose c, a random integer between n and 2n\n",
    "    # Step 3: Calculate Voter IDs\n",
    "    df[\"Voter ID\"] = df[\"Union ID \"].apply(\n",
    "        lambda uid: (pow(int(uid), int(e)) + int(c)) % int(n)\n",
    "    )\n",
    "    # # Ensure Voter IDs are unique\n",
    "    # if len(df['Voter ID'].unique()) != len(df['Union ID '].unique()):\n",
    "    #     raise ValueError(\"Generated Voter IDs are not unique.\")\n",
    "\n",
    "    # Return the modified DataFrame\n",
    "    return df"
   ]
  },
  {
   "cell_type": "code",
   "execution_count": 25,
   "metadata": {},
   "outputs": [],
   "source": [
    "test = generate_voter_ids(p, q, c, workers_df)"
   ]
  },
  {
   "cell_type": "code",
   "execution_count": 27,
   "metadata": {},
   "outputs": [],
   "source": [
    "test.to_csv('/Users/swarchol/Downloads/workers_with_voter_ids.csv', index=False)"
   ]
  },
  {
   "cell_type": "code",
   "execution_count": 30,
   "metadata": {},
   "outputs": [
    {
     "data": {
      "text/plain": [
       "98479866"
      ]
     },
     "execution_count": 30,
     "metadata": {},
     "output_type": "execute_result"
    }
   ],
   "source": [
    "# =MOD(A2^D$5+D$6,D$4)\n",
    "# A2 = Union ID\n",
    "# D$5 = e\n",
    "# D$6 = c\n",
    "# D$4 = n\n",
    "\n",
    "\n",
    "\n",
    "\n",
    "generate_id(16154,1455023218,845383032)"
   ]
  },
  {
   "cell_type": "code",
   "execution_count": null,
   "metadata": {},
   "outputs": [],
   "source": []
  }
 ],
 "metadata": {
  "kernelspec": {
   "display_name": "jupyter",
   "language": "python",
   "name": "python3"
  },
  "language_info": {
   "codemirror_mode": {
    "name": "ipython",
    "version": 3
   },
   "file_extension": ".py",
   "mimetype": "text/x-python",
   "name": "python",
   "nbconvert_exporter": "python",
   "pygments_lexer": "ipython3",
   "version": "3.10.13"
  }
 },
 "nbformat": 4,
 "nbformat_minor": 2
}
